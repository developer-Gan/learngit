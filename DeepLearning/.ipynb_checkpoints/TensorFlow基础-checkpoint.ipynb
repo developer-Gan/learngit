{
 "cells": [
  {
   "cell_type": "markdown",
   "metadata": {},
   "source": [
    "# TensorFlow基础"
   ]
  },
  {
   "cell_type": "code",
   "execution_count": 1,
   "metadata": {},
   "outputs": [
    {
     "data": {
      "text/plain": [
       "'1.14.0'"
      ]
     },
     "execution_count": 1,
     "metadata": {},
     "output_type": "execute_result"
    }
   ],
   "source": [
    "import tensorflow as tf\n",
    "tf.__version__"
   ]
  },
  {
   "cell_type": "markdown",
   "metadata": {},
   "source": [
    "## 流程"
   ]
  },
  {
   "cell_type": "code",
   "execution_count": 2,
   "metadata": {},
   "outputs": [
    {
     "name": "stdout",
     "output_type": "stream",
     "text": [
      "b'Hello, world'\n"
     ]
    }
   ],
   "source": [
    "# 创建一个常值运算，将作为一个节点加入导默认计算图中\n",
    "hello = tf.constant(\"Hello, world\")\n",
    "\n",
    "# 创建一个TF对话\n",
    "sess = tf.Session()\n",
    "\n",
    "# 运行并获得结果\n",
    "print(sess.run(hello))\n",
    "\n",
    "sess.close()"
   ]
  },
  {
   "cell_type": "markdown",
   "metadata": {
    "collapsed": true
   },
   "source": [
    "b 表示 Bytes literals 字节文字"
   ]
  },
  {
   "cell_type": "markdown",
   "metadata": {},
   "source": [
    "## 计算图"
   ]
  },
  {
   "cell_type": "markdown",
   "metadata": {},
   "source": [
    "TensorFlow = Tensor + Flow"
   ]
  },
  {
   "cell_type": "markdown",
   "metadata": {},
   "source": [
    "Tensor 张量 ： 数据结构：多维数组"
   ]
  },
  {
   "cell_type": "markdown",
   "metadata": {},
   "source": [
    "Flow 流 ： 计算模型：张量之间通过计算而转换的过程"
   ]
  },
  {
   "cell_type": "markdown",
   "metadata": {},
   "source": [
    "TensorFlow 是一个通过计算图的形式表述计算的编程系统，每一个计算都是计算图上的一个节点，节点之间的边描述了计算之间的关系"
   ]
  },
  {
   "cell_type": "code",
   "execution_count": 3,
   "metadata": {},
   "outputs": [],
   "source": [
    "# 一个简单的计算图\n",
    "node1 = tf.constant(3.0, tf.float32, name = \"node1\")\n",
    "node2 = tf.constant(4.0, tf.float32, name = \"node2\")\n",
    "node3 = tf.add(node1, node2)"
   ]
  },
  {
   "cell_type": "code",
   "execution_count": 4,
   "metadata": {},
   "outputs": [
    {
     "name": "stdout",
     "output_type": "stream",
     "text": [
      "Tensor(\"Add:0\", shape=(), dtype=float32)\n"
     ]
    }
   ],
   "source": [
    "print(node3) # 输出的是张量的结构"
   ]
  },
  {
   "cell_type": "code",
   "execution_count": 5,
   "metadata": {},
   "outputs": [
    {
     "name": "stdout",
     "output_type": "stream",
     "text": [
      "运行sess.run(node1)的结果： 3.0\n"
     ]
    }
   ],
   "source": [
    "# 建立对话并显示运行结果\n",
    "sess = tf.Session()\n",
    "\n",
    "print(\"运行sess.run(node1)的结果：\", sess.run(node1))"
   ]
  },
  {
   "cell_type": "code",
   "execution_count": 6,
   "metadata": {},
   "outputs": [
    {
     "name": "stdout",
     "output_type": "stream",
     "text": [
      "运行sess.run(node3)的结果： 7.0\n"
     ]
    }
   ],
   "source": [
    "# 更新变量并返回计算结果\n",
    "print(\"运行sess.run(node3)的结果：\", sess.run(node3))\n",
    "      \n",
    "# 关闭session\n",
    "sess.close()"
   ]
  },
  {
   "cell_type": "markdown",
   "metadata": {},
   "source": [
    "## 张量的概念 ： 保存的是计算过程"
   ]
  },
  {
   "cell_type": "markdown",
   "metadata": {},
   "source": [
    "零阶张量是标量       （阶）rank\n",
    "\n",
    "一阶张量是向量\n",
    "\n",
    "n阶张量是n维数组（要和n维向量区分开来）"
   ]
  },
  {
   "cell_type": "code",
   "execution_count": 7,
   "metadata": {},
   "outputs": [
    {
     "name": "stdout",
     "output_type": "stream",
     "text": [
      "Tensor(\"Add:0\", shape=(), dtype=float32)\n"
     ]
    }
   ],
   "source": [
    "print(node3)"
   ]
  },
  {
   "cell_type": "markdown",
   "metadata": {},
   "source": [
    "名字 ： \"node:src_output\" : node 节点名称， src_output 来自节点的第几个输出\n",
    "    \n",
    "形状 ： 张量的维度信息，shape=()，表示是标量\n",
    "\n",
    "类型：每一个张量会有一个唯一的类型，不匹配时报错"
   ]
  },
  {
   "cell_type": "code",
   "execution_count": 8,
   "metadata": {},
   "outputs": [
    {
     "name": "stdout",
     "output_type": "stream",
     "text": [
      "Tensor(\"tens1:0\", shape=(4, 2, 3), dtype=int32)\n"
     ]
    }
   ],
   "source": [
    "tens1 = tf.constant([[[1, 2, 2], [2, 2, 3]], # 几个中括号代表几阶\n",
    "                     [[3, 5, 6],[5, 4, 3]],\n",
    "                     [[7, 0, 1], [9, 1, 9]],\n",
    "                     [[11, 12, 7], [1, 3, 14]]], name = \"tens1\") # 建议后面写名字易分辨\n",
    "\n",
    "print(tens1)"
   ]
  },
  {
   "cell_type": "markdown",
   "metadata": {},
   "source": [
    "shape = (4, 2, 3) 代表上面的张量是3维，第一阶为4个元素，第二阶为2个元素，第三阶为3个元素\n",
    "\n",
    "括号里几个元素代表几阶"
   ]
  },
  {
   "cell_type": "code",
   "execution_count": 9,
   "metadata": {},
   "outputs": [
    {
     "name": "stdout",
     "output_type": "stream",
     "text": [
      "()\n",
      "(5,)\n",
      "(2, 3)\n",
      "(3, 3, 1)\n"
     ]
    }
   ],
   "source": [
    "scalar = tf.constant(100)\n",
    "vector = tf.constant([1, 2, 3, 4, 5])\n",
    "matrix = tf.constant([[1, 2, 3], [4, 5, 6]])\n",
    "cube_matrix = tf.constant([[[1], [2], [3]], [[4], [5], [6]], [[7], [8], [9]]])\n",
    "\n",
    "print(scalar.get_shape())\n",
    "print(vector.get_shape())\n",
    "print(matrix.get_shape())\n",
    "print(cube_matrix.get_shape())"
   ]
  },
  {
   "cell_type": "code",
   "execution_count": 10,
   "metadata": {},
   "outputs": [
    {
     "name": "stdout",
     "output_type": "stream",
     "text": [
      "5\n"
     ]
    }
   ],
   "source": [
    "tens1 = tf.constant([[[1, 2], [2, 3]], [[4, 5], [5, 6]]])\n",
    "\n",
    "sess = tf.Session()\n",
    "print(sess.run(tens1)[1, 1, 0])\n",
    "sess.close()"
   ]
  },
  {
   "cell_type": "code",
   "execution_count": 11,
   "metadata": {},
   "outputs": [],
   "source": [
    "tf.reset_default_graph() # 清除 default graph 和不断增加的节点\n",
    "\n",
    "# 定义变量 a\n",
    "a = tf.Variable(1, name = 'a')\n",
    "# 定义操作 b 为 a+1\n",
    "b = tf.add(a, 1, name = 'b')\n",
    "# 定义操作 c 为 b*4\n",
    "c = tf.multiply(b, 4, name = 'c')\n",
    "# 定义操作 d 为 c-d\n",
    "d = tf.subtract(c, b, name = 'd')\n",
    "\n",
    "# 用自己机器上的合适路径\n",
    "logdir = \"D:/Install/Jupyter/nn_log\" # 非中文路径\n",
    "\n",
    "# 生成一个写日志的 writer， 并将当前的 TensorFlow 计算图写入日志 \n",
    "writer = tf.summary.FileWriter(logdir, tf.get_default_graph())\n",
    "writer.close()"
   ]
  },
  {
   "cell_type": "markdown",
   "metadata": {
    "collapsed": true
   },
   "source": [
    "## 会话"
   ]
  },
  {
   "cell_type": "code",
   "execution_count": 12,
   "metadata": {},
   "outputs": [
    {
     "name": "stdout",
     "output_type": "stream",
     "text": [
      "[1 2 3]\n"
     ]
    }
   ],
   "source": [
    "tens1 = tf.constant([1, 2, 3])\n",
    "\n",
    "sess = tf.Session()\n",
    "\n",
    "# 用 try-except 调用\n",
    "try:\n",
    "    print(sess.run(tens1))\n",
    "except:\n",
    "    print(\"Exception!\")\n",
    "finally:\n",
    "    sess.close() # 确保资源被释放"
   ]
  },
  {
   "cell_type": "markdown",
   "metadata": {},
   "source": [
    "### TensorFLow 指定默认会话"
   ]
  },
  {
   "cell_type": "code",
   "execution_count": 13,
   "metadata": {},
   "outputs": [
    {
     "name": "stdout",
     "output_type": "stream",
     "text": [
      "7.0\n",
      "7.0\n",
      "7.0\n"
     ]
    }
   ],
   "source": [
    "node1 = tf.constant(3.0, tf.float32, name = 'node1')\n",
    "node2 = tf.constant(4.0, tf.float32, name = 'node2')\n",
    "result = tf.add(node1, node2)\n",
    "\n",
    "sess = tf.Session()\n",
    "with sess.as_default():\n",
    "    print(result.eval())\n",
    "    \n",
    "# 或者用下面的方式\n",
    "print(sess.run(result))\n",
    "print(result.eval(session = sess))\n",
    "sess.close()"
   ]
  },
  {
   "cell_type": "markdown",
   "metadata": {},
   "source": [
    "### 设置默认会话"
   ]
  },
  {
   "cell_type": "code",
   "execution_count": 14,
   "metadata": {},
   "outputs": [
    {
     "name": "stdout",
     "output_type": "stream",
     "text": [
      "7.0\n"
     ]
    }
   ],
   "source": [
    "node1 = tf.constant(3.0, tf.float32, name = 'node1')\n",
    "node2 = tf.constant(4.0, tf.float32, name = 'node2')\n",
    "result = tf.add(node1, node2)\n",
    "\n",
    "sess = tf.InteractiveSession() # *\n",
    "\n",
    "print(result.eval())\n",
    "sess.close()"
   ]
  },
  {
   "cell_type": "markdown",
   "metadata": {},
   "source": [
    "## 常量 constant ： 运行过程中值不会改变的单元,可以不初始化"
   ]
  },
  {
   "cell_type": "code",
   "execution_count": 15,
   "metadata": {},
   "outputs": [],
   "source": [
    "a = tf.constant(3.0, tf.float32, name = 'a') #"
   ]
  },
  {
   "cell_type": "markdown",
   "metadata": {},
   "source": [
    "## 变量 Variable ： 运行过程中值会改变的单元，必须初始化"
   ]
  },
  {
   "cell_type": "markdown",
   "metadata": {},
   "source": [
    "name_variable = tf.Variable(value, name)"
   ]
  },
  {
   "cell_type": "markdown",
   "metadata": {},
   "source": [
    "个别变量初始化： init_op = name_variable.initalizer() 前面那个是变量\n",
    "\n",
    "所有变量初始化： init_op = tf.global_variables_initializer()"
   ]
  },
  {
   "cell_type": "markdown",
   "metadata": {},
   "source": [
    "## 变量赋值 ： 一般无需人工赋值，根据算法自动调整"
   ]
  },
  {
   "cell_type": "markdown",
   "metadata": {},
   "source": [
    "特殊情况需要人工更新,用变量赋值语句 ：\n",
    "\n",
    "update_op = tf.assign(varible_to_be_updated, new_value) (被更新变量，新值)"
   ]
  },
  {
   "cell_type": "markdown",
   "metadata": {},
   "source": [
    "不允许节点自动调整： \n",
    "\n",
    "epoch = tf.Variable(0, name = 'epoch', trainable = False)  后面设置为 False 就行"
   ]
  },
  {
   "cell_type": "code",
   "execution_count": 16,
   "metadata": {},
   "outputs": [
    {
     "name": "stdout",
     "output_type": "stream",
     "text": [
      "1\n",
      "2\n",
      "3\n",
      "4\n",
      "5\n",
      "6\n",
      "7\n",
      "8\n",
      "9\n",
      "10\n"
     ]
    }
   ],
   "source": [
    "tf.reset_default_graph() # 清除 default graph 和不断增加的节点\n",
    "value = tf.Variable(0, name = \"value\")\n",
    "one = tf.constant(1)\n",
    "new_value = tf.add(value, one)\n",
    "update_value = tf.assign(value, new_value)\n",
    "\n",
    "init = tf.global_variables_initializer()\n",
    "\n",
    "sess = tf.Session()\n",
    "\n",
    "sess.run(init)\n",
    "for i in range(10):\n",
    "    \n",
    "    sess.run(update_value)\n",
    "    print(sess.run(value))\n",
    "    \n",
    "# 用自己机器上的合适路径\n",
    "logdir = \"D:/Install/Jupyter/nn_log\" # 非中文路径\n",
    "\n",
    "# 生成一个写日志的 writer， 并将当前的 TensorFlow 计算图写入日志 \n",
    "writer = tf.summary.FileWriter(logdir, tf.get_default_graph())\n",
    "writer.close()\n",
    "\n",
    "sess.close()"
   ]
  },
  {
   "cell_type": "markdown",
   "metadata": {},
   "source": [
    "## 占位符 placeholder ： 变量类型需要初始化，但有些变量在定义时并不知道其数值，用占位符"
   ]
  },
  {
   "cell_type": "markdown",
   "metadata": {},
   "source": [
    "tf.placeholder(dtype, shape = None, name = None)"
   ]
  },
  {
   "cell_type": "markdown",
   "metadata": {},
   "source": [
    "x = tf.placeholder(tf.float32, [2, 3], name = \"tx\") # 生成 2x3 的二维数组，类型tf.float32，内部名称 tx"
   ]
  },
  {
   "cell_type": "markdown",
   "metadata": {},
   "source": [
    "### feed 提交数据 ： 若包含了 placeholder 的计算图，必须通过 feed_dict 参数传递进去"
   ]
  },
  {
   "cell_type": "code",
   "execution_count": 17,
   "metadata": {},
   "outputs": [
    {
     "name": "stdout",
     "output_type": "stream",
     "text": [
      "28.0\n"
     ]
    }
   ],
   "source": [
    "a = tf.placeholder(tf.float32, name = \"a\")\n",
    "b = tf.placeholder(tf.float32, name = \"b\")\n",
    "c = tf.multiply(a, b, name = 'c')\n",
    "\n",
    "init = tf.global_variables_initializer()\n",
    "\n",
    "sess = tf.Session()\n",
    "\n",
    "sess.run(init)\n",
    "result = sess.run(c, feed_dict = {a : 8.0, b : 3.5})\n",
    "print(result)"
   ]
  },
  {
   "cell_type": "markdown",
   "metadata": {},
   "source": [
    "## 案例： 在 TensorBoard 中查看图结构"
   ]
  },
  {
   "cell_type": "code",
   "execution_count": 18,
   "metadata": {},
   "outputs": [],
   "source": [
    "# 清除 default graph 和不断增加的节点\n",
    "tf.reset_default_graph() \n",
    "\n",
    "# 用自己机器上的合适路径\n",
    "logdir = \"D:/Install/Jupyter/nn_log\" # 非中文路径\n",
    "\n",
    "input1 = tf.constant([1, 2, 3], dtype = tf.float32, name = \"input1\")\n",
    "input2 = tf.Variable(tf.random_uniform([3]), name = \"input2\")\n",
    "output = tf.add_n([input1, input2], name = \"add\")\n",
    " \n",
    "# 生成一个写日志的 writer， 并将当前的 TensorFlow 计算图写入日志 \n",
    "writer = tf.summary.FileWriter(logdir, tf.get_default_graph())\n",
    "writer.close()"
   ]
  },
  {
   "cell_type": "markdown",
   "metadata": {},
   "source": [
    "1.打开 conda prompt 进入存放目录 \n",
    "\n",
    "2.运行 tensorboard --logdir=/path/log ，启动服务的端口默认为6006，使用 --port 参数书可以改变端口"
   ]
  }
 ],
 "metadata": {
  "kernelspec": {
   "display_name": "Python 3",
   "language": "python",
   "name": "python3"
  },
  "language_info": {
   "codemirror_mode": {
    "name": "ipython",
    "version": 3
   },
   "file_extension": ".py",
   "mimetype": "text/x-python",
   "name": "python",
   "nbconvert_exporter": "python",
   "pygments_lexer": "ipython3",
   "version": "3.6.2"
  }
 },
 "nbformat": 4,
 "nbformat_minor": 2
}
